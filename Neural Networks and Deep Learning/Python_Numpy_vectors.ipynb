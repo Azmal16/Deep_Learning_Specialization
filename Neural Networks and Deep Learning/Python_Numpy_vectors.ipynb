{
  "nbformat": 4,
  "nbformat_minor": 0,
  "metadata": {
    "colab": {
      "name": "Python_Numpy_vectors.ipynb",
      "provenance": [],
      "authorship_tag": "ABX9TyOseTYcXk/edsHzgkoKABrC",
      "include_colab_link": true
    },
    "kernelspec": {
      "name": "python3",
      "display_name": "Python 3"
    }
  },
  "cells": [
    {
      "cell_type": "markdown",
      "metadata": {
        "id": "view-in-github",
        "colab_type": "text"
      },
      "source": [
        "<a href=\"https://colab.research.google.com/github/Azmal16/Deep_Learning_Specialization/blob/main/Neural%20Networks%20and%20Deep%20Learning/Python_Numpy_vectors.ipynb\" target=\"_parent\"><img src=\"https://colab.research.google.com/assets/colab-badge.svg\" alt=\"Open In Colab\"/></a>"
      ]
    },
    {
      "cell_type": "code",
      "metadata": {
        "id": "y8KY2d_J1KS9",
        "outputId": "c232b080-0925-469a-8ebb-d852ea4409f3",
        "colab": {
          "base_uri": "https://localhost:8080/",
          "height": 35
        }
      },
      "source": [
        "import numpy as np\n",
        "\n",
        "a = np.random.rand(5)\n",
        "print(a)"
      ],
      "execution_count": null,
      "outputs": [
        {
          "output_type": "stream",
          "text": [
            "[0.61822333 0.77923975 0.92170719 0.38865905 0.05246487]\n"
          ],
          "name": "stdout"
        }
      ]
    },
    {
      "cell_type": "code",
      "metadata": {
        "id": "5TI_1wsj16Wx",
        "outputId": "0d932ff5-fb84-444b-a876-f9a8c4ad60ef",
        "colab": {
          "base_uri": "https://localhost:8080/",
          "height": 35
        }
      },
      "source": [
        "print(a.shape)"
      ],
      "execution_count": null,
      "outputs": [
        {
          "output_type": "stream",
          "text": [
            "(5,)\n"
          ],
          "name": "stdout"
        }
      ]
    },
    {
      "cell_type": "code",
      "metadata": {
        "id": "qCZWj2yg2C1y",
        "outputId": "c4186343-d4c6-4608-dbe0-bc153f37baa1",
        "colab": {
          "base_uri": "https://localhost:8080/",
          "height": 35
        }
      },
      "source": [
        "print(a.T)"
      ],
      "execution_count": null,
      "outputs": [
        {
          "output_type": "stream",
          "text": [
            "[0.61822333 0.77923975 0.92170719 0.38865905 0.05246487]\n"
          ],
          "name": "stdout"
        }
      ]
    },
    {
      "cell_type": "code",
      "metadata": {
        "id": "IzPuI4Ta2WeV",
        "outputId": "953616c7-c9f0-4173-a571-e99a2f1bf4cf",
        "colab": {
          "base_uri": "https://localhost:8080/",
          "height": 35
        }
      },
      "source": [
        "print(np.dot(a,a.T))"
      ],
      "execution_count": null,
      "outputs": [
        {
          "output_type": "stream",
          "text": [
            "1.9927672345953604\n"
          ],
          "name": "stdout"
        }
      ]
    },
    {
      "cell_type": "code",
      "metadata": {
        "id": "6fqb8bNI2ov5",
        "outputId": "d48012f9-1cb3-4bd1-e65c-df4770595362",
        "colab": {
          "base_uri": "https://localhost:8080/",
          "height": 107
        }
      },
      "source": [
        "a = np.random.rand(5,1)\n",
        "print(a)"
      ],
      "execution_count": null,
      "outputs": [
        {
          "output_type": "stream",
          "text": [
            "[[0.74536133]\n",
            " [0.86912354]\n",
            " [0.73622898]\n",
            " [0.30560894]\n",
            " [0.20074705]]\n"
          ],
          "name": "stdout"
        }
      ]
    },
    {
      "cell_type": "code",
      "metadata": {
        "id": "32Oo_iWz2z8U",
        "outputId": "e448bac6-3a94-465a-88bd-96c4fd550306",
        "colab": {
          "base_uri": "https://localhost:8080/",
          "height": 35
        }
      },
      "source": [
        "print(a.T)"
      ],
      "execution_count": null,
      "outputs": [
        {
          "output_type": "stream",
          "text": [
            "[[0.74536133 0.86912354 0.73622898 0.30560894 0.20074705]]\n"
          ],
          "name": "stdout"
        }
      ]
    },
    {
      "cell_type": "code",
      "metadata": {
        "id": "UpfqRr2325NV",
        "outputId": "9a27bafb-e781-4291-c516-bbca76f9523b",
        "colab": {
          "base_uri": "https://localhost:8080/",
          "height": 107
        }
      },
      "source": [
        "print(np.dot(a,a.T))"
      ],
      "execution_count": null,
      "outputs": [
        {
          "output_type": "stream",
          "text": [
            "[[0.55556351 0.64781107 0.54875661 0.22778909 0.14962908]\n",
            " [0.64781107 0.75537572 0.63987394 0.26561192 0.17447398]\n",
            " [0.54875661 0.63987394 0.54203311 0.22499816 0.14779579]\n",
            " [0.22778909 0.26561192 0.22499816 0.09339682 0.06135009]\n",
            " [0.14962908 0.17447398 0.14779579 0.06135009 0.04029938]]\n"
          ],
          "name": "stdout"
        }
      ]
    }
  ]
}