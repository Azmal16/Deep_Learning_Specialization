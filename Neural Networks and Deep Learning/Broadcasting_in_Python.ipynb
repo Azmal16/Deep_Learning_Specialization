{
  "nbformat": 4,
  "nbformat_minor": 0,
  "metadata": {
    "colab": {
      "name": "Broadcasting_in_Python.ipynb",
      "provenance": [],
      "authorship_tag": "ABX9TyM9Uqwv+N8zsiAZF1yvn0JH",
      "include_colab_link": true
    },
    "kernelspec": {
      "display_name": "Python 3",
      "name": "python3"
    }
  },
  "cells": [
    {
      "cell_type": "markdown",
      "metadata": {
        "id": "view-in-github",
        "colab_type": "text"
      },
      "source": [
        "<a href=\"https://colab.research.google.com/github/Azmal16/Deep_Learning_Specialization/blob/main/Neural%20Networks%20and%20Deep%20Learning/Broadcasting_in_Python.ipynb\" target=\"_parent\"><img src=\"https://colab.research.google.com/assets/colab-badge.svg\" alt=\"Open In Colab\"/></a>"
      ]
    },
    {
      "cell_type": "markdown",
      "metadata": {
        "id": "-m9W_yvztcBc"
      },
      "source": [
        "Calories from Carbs, Proteins and Fats of 100g of Apple, Beef, Eggss and Potatoes are given in matrix A."
      ]
    },
    {
      "cell_type": "code",
      "metadata": {
        "id": "0mnlbA250NC3",
        "outputId": "2c559c4e-1ddb-4b20-e194-3298da5410d4",
        "colab": {
          "base_uri": "https://localhost:8080/",
          "height": 71
        }
      },
      "source": [
        "import numpy as np\n",
        "#Rows indicate the nutrition elements \n",
        "#Columns indicate the foods\n",
        "A = np.array([[56.0, 0.0, 4.4, 68.0],\n",
        "               [1.2, 104.0, 52.0, 8.0],\n",
        "               [1.8, 135.0, 99.0, 0.9]])\n",
        "\n",
        "print(A)"
      ],
      "execution_count": 7,
      "outputs": [
        {
          "output_type": "stream",
          "text": [
            "[[ 56.    0.    4.4  68. ]\n",
            " [  1.2 104.   52.    8. ]\n",
            " [  1.8 135.   99.    0.9]]\n"
          ],
          "name": "stdout"
        }
      ]
    },
    {
      "cell_type": "markdown",
      "metadata": {
        "id": "l1VGfmrrvOmC"
      },
      "source": [
        "We sum the columns to get the total number of calories in each food in a form of a (1,4) Matrix"
      ]
    },
    {
      "cell_type": "code",
      "metadata": {
        "id": "x3dZfzyPodxo",
        "outputId": "bac46c85-91be-4d38-d499-b5f0677ee248",
        "colab": {
          "base_uri": "https://localhost:8080/",
          "height": 35
        }
      },
      "source": [
        "cal = A.sum(axis = 0)\n",
        "print(cal)"
      ],
      "execution_count": 8,
      "outputs": [
        {
          "output_type": "stream",
          "text": [
            "[ 59.  239.  155.4  76.9]\n"
          ],
          "name": "stdout"
        }
      ]
    },
    {
      "cell_type": "markdown",
      "metadata": {
        "id": "SCrofeGBwd8y"
      },
      "source": [
        "Percentage of calories provided by the nutrition elements of each food in a form of (3,4) Matrix without using explicit loops."
      ]
    },
    {
      "cell_type": "code",
      "metadata": {
        "id": "12Tymm9Qo2rh",
        "outputId": "1e103b64-f2dd-441b-82a7-3ed3882b5e27",
        "colab": {
          "base_uri": "https://localhost:8080/",
          "height": 71
        }
      },
      "source": [
        "percentage = 100*A/(cal.reshape(1,4))\n",
        "print(percentage)"
      ],
      "execution_count": 10,
      "outputs": [
        {
          "output_type": "stream",
          "text": [
            "[[94.91525424  0.          2.83140283 88.42652796]\n",
            " [ 2.03389831 43.51464435 33.46203346 10.40312094]\n",
            " [ 3.05084746 56.48535565 63.70656371  1.17035111]]\n"
          ],
          "name": "stdout"
        }
      ]
    }
  ]
}