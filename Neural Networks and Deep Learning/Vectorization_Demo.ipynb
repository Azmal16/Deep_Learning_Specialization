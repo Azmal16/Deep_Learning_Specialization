{
  "nbformat": 4,
  "nbformat_minor": 0,
  "metadata": {
    "colab": {
      "name": "Vectorization_Demo.ipynb",
      "provenance": [],
      "collapsed_sections": [],
      "authorship_tag": "ABX9TyNdxb/61RZ/choJk4/Ksmeb",
      "include_colab_link": true
    },
    "kernelspec": {
      "name": "python3",
      "display_name": "Python 3"
    }
  },
  "cells": [
    {
      "cell_type": "markdown",
      "metadata": {
        "id": "view-in-github",
        "colab_type": "text"
      },
      "source": [
        "<a href=\"https://colab.research.google.com/github/Azmal16/Deep_Learning_Specialization/blob/main/Neural%20Networks%20and%20Deep%20Learning/Vectorization_Demo.ipynb\" target=\"_parent\"><img src=\"https://colab.research.google.com/assets/colab-badge.svg\" alt=\"Open In Colab\"/></a>"
      ]
    },
    {
      "cell_type": "markdown",
      "metadata": {
        "id": "872Q8Uh6mE8M"
      },
      "source": [
        "Numpy Array Example:"
      ]
    },
    {
      "cell_type": "code",
      "metadata": {
        "id": "0rK2nuDdl609",
        "outputId": "fb254672-b0f1-47b6-c9ba-2124f207b729",
        "colab": {
          "base_uri": "https://localhost:8080/",
          "height": 35
        }
      },
      "source": [
        "import numpy as np\n",
        "\n",
        "a = np.array([1,2,3,4])\n",
        "print(a)"
      ],
      "execution_count": null,
      "outputs": [
        {
          "output_type": "stream",
          "text": [
            "[1 2 3 4]\n"
          ],
          "name": "stdout"
        }
      ]
    },
    {
      "cell_type": "markdown",
      "metadata": {
        "id": "PODZyaOYoW4o"
      },
      "source": [
        "Measuring time with Vectorization"
      ]
    },
    {
      "cell_type": "code",
      "metadata": {
        "id": "6ydghVTFmf6o",
        "outputId": "2991f02f-8246-4a04-c9e3-b0d4e4d689d9",
        "colab": {
          "base_uri": "https://localhost:8080/",
          "height": 53
        }
      },
      "source": [
        "import time\n",
        "\n",
        "a = np.random.rand(1000000)\n",
        "b = np.random.rand(1000000)\n",
        "\n",
        "#Measuring the current time\n",
        "tic = time.time() \n",
        "#Computing c with vectorization\n",
        "c = np.dot(a,b)\n",
        "toc = time.time()\n",
        "print('c = ' + str(c))\n",
        "print (\"Time taken by Vectorized version: \" + str(1000*(toc - tic)) + ' ms')\n",
        "time_vec = (toc - tic)"
      ],
      "execution_count": null,
      "outputs": [
        {
          "output_type": "stream",
          "text": [
            "c = 249573.9500208255\n",
            "Time taken by Vectorized version: 1.5528202056884766 ms\n"
          ],
          "name": "stdout"
        }
      ]
    },
    {
      "cell_type": "markdown",
      "metadata": {
        "id": "nqrnTZItod-v"
      },
      "source": [
        "Measuring time with for loop"
      ]
    },
    {
      "cell_type": "code",
      "metadata": {
        "id": "DvOOrNmeoCfM",
        "outputId": "0a9a7d9a-6984-4115-d975-05247d759d55",
        "colab": {
          "base_uri": "https://localhost:8080/",
          "height": 53
        }
      },
      "source": [
        "c = 0\n",
        "tic = time.time()\n",
        "for i in range(1000000):\n",
        "  c += a[i]*b[i]\n",
        "toc = time.time()\n",
        "print('c = ' + str(c))\n",
        "print (\"Time taken by For loop version: \" + str(1000*(toc - tic)) + ' ms')\n",
        "time_for = (toc - tic)"
      ],
      "execution_count": null,
      "outputs": [
        {
          "output_type": "stream",
          "text": [
            "c = 249573.95002083143\n",
            "Time taken by For loop version: 567.528247833252 ms\n"
          ],
          "name": "stdout"
        }
      ]
    },
    {
      "cell_type": "markdown",
      "metadata": {
        "id": "EMvQylldpXVy"
      },
      "source": [
        "Comparison"
      ]
    },
    {
      "cell_type": "code",
      "metadata": {
        "id": "YJpycjNZpZz9",
        "outputId": "ede18ebd-263e-480a-b595-a2883de16cb8",
        "colab": {
          "base_uri": "https://localhost:8080/",
          "height": 35
        }
      },
      "source": [
        "print('Vectorized version is ' + str((time_for/time_vec)) + \" times faster!\")"
      ],
      "execution_count": null,
      "outputs": [
        {
          "output_type": "stream",
          "text": [
            "Vectorized version is 365.48226623675725 times faster!\n"
          ],
          "name": "stdout"
        }
      ]
    }
  ]
}